{
 "cells": [
  {
   "cell_type": "code",
   "execution_count": 1,
   "id": "93904ef7-bfb9-49f1-b1ed-673e7f15423e",
   "metadata": {},
   "outputs": [],
   "source": [
    "import json"
   ]
  },
  {
   "cell_type": "code",
   "execution_count": 9,
   "id": "f142fe69-7345-4652-b336-0308f2ee2f48",
   "metadata": {},
   "outputs": [
    {
     "name": "stdout",
     "output_type": "stream",
     "text": [
      "Text: STATE, Image Path: textrecog_imgs/test/1016_1.png\n",
      "Text: STATE, Image Path: textrecog_imgs/test/1024_1.png\n",
      "Text: STATE, Image Path: textrecog_imgs/test/1036_1.png\n",
      "Text: STATE, Image Path: textrecog_imgs/test/1045_1.png\n",
      "Text: STATE, Image Path: textrecog_imgs/test/1047_1.png\n",
      "Text: STATE, Image Path: textrecog_imgs/test/1049_1.png\n",
      "Text: STATE, Image Path: textrecog_imgs/test/1050_1.png\n",
      "Text: STATE, Image Path: textrecog_imgs/test/108_1.png\n",
      "Text: STATE, Image Path: textrecog_imgs/test/133_1.png\n",
      "Text: STATE, Image Path: textrecog_imgs/test/167_1.png\n",
      "Text: STATE, Image Path: textrecog_imgs/test/169_5.png\n",
      "Text: STATE, Image Path: textrecog_imgs/test/170_1.png\n",
      "Text: STATE, Image Path: textrecog_imgs/test/177_1.png\n",
      "Text: STATE, Image Path: textrecog_imgs/test/197_1.png\n",
      "Text: STATE, Image Path: textrecog_imgs/test/207_1.png\n",
      "Text: STATE, Image Path: textrecog_imgs/test/208_1.png\n",
      "Text: STATE, Image Path: textrecog_imgs/test/209_1.png\n",
      "Text: STATE, Image Path: textrecog_imgs/test/232_1.png\n",
      "Text: STATE, Image Path: textrecog_imgs/test/326_1.png\n",
      "Text: STATE, Image Path: textrecog_imgs/test/339_1.png\n",
      "Text: STATE, Image Path: textrecog_imgs/test/358_1.png\n",
      "Text: STATE, Image Path: textrecog_imgs/test/392_1.png\n",
      "Text: STATE, Image Path: textrecog_imgs/test/399_1.png\n",
      "Text: STATE, Image Path: textrecog_imgs/test/401_1.png\n",
      "Text: STATE, Image Path: textrecog_imgs/test/418_1.png\n",
      "Text: STATE, Image Path: textrecog_imgs/test/419_4.png\n",
      "Text: STATE, Image Path: textrecog_imgs/test/433_1.png\n",
      "Text: STATE, Image Path: textrecog_imgs/test/455_1.png\n",
      "Text: STATE, Image Path: textrecog_imgs/test/522_1.png\n",
      "Text: STATE, Image Path: textrecog_imgs/test/528_1.png\n",
      "Text: STATE, Image Path: textrecog_imgs/test/541_1.png\n",
      "Text: STATE, Image Path: textrecog_imgs/test/545_1.png\n",
      "Text: STATE, Image Path: textrecog_imgs/test/551_1.png\n",
      "Text: STATE, Image Path: textrecog_imgs/test/63_1.png\n",
      "Text: STATE, Image Path: textrecog_imgs/test/64_1.png\n",
      "Text: STATE, Image Path: textrecog_imgs/test/671_1.png\n",
      "Text: STATE, Image Path: textrecog_imgs/test/681_1.png\n",
      "Text: STATE, Image Path: textrecog_imgs/test/6_1.png\n",
      "Text: STATE, Image Path: textrecog_imgs/test/831_1.png\n",
      "Text: STATE, Image Path: textrecog_imgs/test/838_1.png\n",
      "Text: STATE, Image Path: textrecog_imgs/test/851_1.png\n",
      "Text: STATE, Image Path: textrecog_imgs/test/894_1.png\n",
      "Text: STATE, Image Path: textrecog_imgs/test/916_1.png\n",
      "Text: STATE, Image Path: textrecog_imgs/test/933_1.png\n",
      "Text: STATE, Image Path: textrecog_imgs/test/934_1.png\n",
      "Text: STATE, Image Path: textrecog_imgs/test/983_1.png\n"
     ]
    }
   ],
   "source": [
    "def filter_text(json_file_path, target_text):\n",
    "    # Load the JSON data from the file\n",
    "    with open(json_file_path, 'r') as file:\n",
    "        data = json.load(file)\n",
    "    \n",
    "    # Filter the entries where the text matches the target text\n",
    "    filtered_entries = []\n",
    "    for entry in data['data_list']:\n",
    "        for instance in entry['instances']:\n",
    "            if instance['text'].lower() == target_text.lower():\n",
    "                filtered_entries.append({\n",
    "                    'text': instance['text'],\n",
    "                    'img_path': entry['img_path']\n",
    "                })\n",
    "    \n",
    "    # Print the filtered results\n",
    "    for entry in filtered_entries:\n",
    "        print(f\"Text: {entry['text']}, Image Path: {entry['img_path']}\")\n",
    "\n",
    "# Usage\n",
    "json_file_path = 'GT_Test.json'  # Replace with your JSON file path\n",
    "filter_text(json_file_path, 'state')"
   ]
  },
  {
   "cell_type": "code",
   "execution_count": null,
   "id": "1e7fefe5-7f36-4f72-bc74-d461cc48529f",
   "metadata": {},
   "outputs": [],
   "source": []
  }
 ],
 "metadata": {
  "kernelspec": {
   "display_name": "Python 3 (ipykernel)",
   "language": "python",
   "name": "python3"
  },
  "language_info": {
   "codemirror_mode": {
    "name": "ipython",
    "version": 3
   },
   "file_extension": ".py",
   "mimetype": "text/x-python",
   "name": "python",
   "nbconvert_exporter": "python",
   "pygments_lexer": "ipython3",
   "version": "3.9.19"
  }
 },
 "nbformat": 4,
 "nbformat_minor": 5
}
