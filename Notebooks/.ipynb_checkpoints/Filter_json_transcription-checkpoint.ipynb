{
 "cells": [
  {
   "cell_type": "code",
   "execution_count": 1,
   "id": "715619a0-6e01-4157-86e0-05360f13e8a0",
   "metadata": {
    "scrolled": true
   },
   "outputs": [
    {
     "name": "stdout",
     "output_type": "stream",
     "text": [
      "gt_29698: world beer museum\n",
      "gt_21678: belgium diamond museum\n",
      "gt_24265: world expo museum\n",
      "gt_1358: international table tennis federation museum\n",
      "gt_1358: china table tennis museum\n",
      "gt_27103: healthmuseum\n",
      "gt_29832: jinan cultural museum of commerciai port\n",
      "gt_2785: suytanbeautyhealthmuseum\n",
      "gt_7636: museum\n",
      "gt_867: he museum of guanqzhou aslan games & guangzhou aslan games\n"
     ]
    }
   ],
   "source": [
    "# Import necessary libraries\n",
    "import json\n",
    "\n",
    "# Define the function to filter the JSON file\n",
    "def filter_museum_transcriptions(json_file_path, target_text='museum'):\n",
    "    # Load the JSON data from the file\n",
    "    with open(json_file_path, 'r', encoding='utf-8') as file:\n",
    "        data = json.load(file)\n",
    "    \n",
    "    # Iterate over the items in the JSON data\n",
    "    for key, entries in data.items():\n",
    "        for entry in entries:\n",
    "            transcription = entry.get('transcription', '').lower()\n",
    "            if target_text.lower() in transcription:\n",
    "                print(f\"{key}: {transcription}\")\n",
    "\n",
    "# Define the path to your JSON file\n",
    "json_file_path = 'LVST_train_full_labels_official.json'  # Replace with your JSON file path\n",
    "\n",
    "# Call the function\n",
    "filter_museum_transcriptions(json_file_path)\n"
   ]
  },
  {
   "cell_type": "code",
   "execution_count": null,
   "id": "2ac5cc41-fe20-469f-8cda-b31822c55c8b",
   "metadata": {},
   "outputs": [],
   "source": []
  }
 ],
 "metadata": {
  "kernelspec": {
   "display_name": "Python 3 (ipykernel)",
   "language": "python",
   "name": "python3"
  },
  "language_info": {
   "codemirror_mode": {
    "name": "ipython",
    "version": 3
   },
   "file_extension": ".py",
   "mimetype": "text/x-python",
   "name": "python",
   "nbconvert_exporter": "python",
   "pygments_lexer": "ipython3",
   "version": "3.9.19"
  }
 },
 "nbformat": 4,
 "nbformat_minor": 5
}
