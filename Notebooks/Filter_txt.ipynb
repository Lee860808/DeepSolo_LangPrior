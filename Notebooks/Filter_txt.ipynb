{
 "cells": [
  {
   "cell_type": "code",
   "execution_count": 1,
   "id": "93904ef7-bfb9-49f1-b1ed-673e7f15423e",
   "metadata": {},
   "outputs": [],
   "source": [
    "import os"
   ]
  },
  {
   "cell_type": "code",
   "execution_count": 2,
   "id": "f142fe69-7345-4652-b336-0308f2ee2f48",
   "metadata": {},
   "outputs": [],
   "source": [
    "$ Doesnt work, need to change\n",
    "def filter_text_from_files(folder_path, target_text):\n",
    "    # Iterate through all files in the specified folder\n",
    "    for file_name in os.listdir(folder_path):\n",
    "        if file_name.endswith('.txt'):\n",
    "            file_path = os.path.join(folder_path, file_name)\n",
    "            with open(file_path, 'r', encoding='utf-8') as file:\n",
    "                lines = file.readlines()\n",
    "                for line in lines:\n",
    "                    # Extract the text part from each line (assuming the text is the last element)\n",
    "                    parts = line.strip().split(',')\n",
    "                    if len(parts) > 9 and parts[-2].lower() == target_text.lower():\n",
    "                        print(f\"Text: {parts[-2]}, File: {file_name}\")\n",
    "\n",
    "# Usage\n",
    "folder_path = 'MLT_GT_Valid_txt'  # Replace with the actual folder path containing txt files\n",
    "filter_text_from_files(folder_path, 'Prayer')\n"
   ]
  },
  {
   "cell_type": "code",
   "execution_count": 3,
   "id": "1e7fefe5-7f36-4f72-bc74-d461cc48529f",
   "metadata": {},
   "outputs": [],
   "source": [
    "# def filter_lines_in_file(file_path, target_text):\n",
    "#     # Open the file and read all lines\n",
    "#     with open(file_path, 'r', encoding='utf-8') as file:\n",
    "#         lines = file.readlines()\n",
    "#         for line in lines:\n",
    "#             # Check if the target text is in the line\n",
    "#             if target_text.lower() in line.lower():\n",
    "#                 print(f\"Line: {line.strip()}\")\n",
    "\n",
    "# # Usage\n",
    "# file_path = 'annotation_train.txt'  # Replace with the actual file path\n",
    "# filter_lines_in_file(file_path, 'museum')\n"
   ]
  },
  {
   "cell_type": "code",
   "execution_count": null,
   "id": "4f742be8-b8f8-4d07-a1b1-2b4dc4deb9cd",
   "metadata": {},
   "outputs": [],
   "source": []
  }
 ],
 "metadata": {
  "kernelspec": {
   "display_name": "Python 3 (ipykernel)",
   "language": "python",
   "name": "python3"
  },
  "language_info": {
   "codemirror_mode": {
    "name": "ipython",
    "version": 3
   },
   "file_extension": ".py",
   "mimetype": "text/x-python",
   "name": "python",
   "nbconvert_exporter": "python",
   "pygments_lexer": "ipython3",
   "version": "3.9.19"
  }
 },
 "nbformat": 4,
 "nbformat_minor": 5
}
