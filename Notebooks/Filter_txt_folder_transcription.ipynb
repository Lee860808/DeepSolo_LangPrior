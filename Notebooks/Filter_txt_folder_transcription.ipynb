{
 "cells": [
  {
   "cell_type": "code",
   "execution_count": null,
   "id": "c160dbf1-a576-4675-bf14-d566a01481ad",
   "metadata": {},
   "outputs": [],
   "source": [
    "import os\n",
    "\n",
    "def filter_museum_from_txt_files(folder_path, target_text='museum'):\n",
    "    print(f\"Scanning folder: {folder_path}\")\n",
    "    \n",
    "    matches = []\n",
    "    \n",
    "    # Iterate through all files in the specified folder\n",
    "    for file_name in os.listdir(folder_path):\n",
    "        if file_name.endswith('.txt'):\n",
    "            file_path = os.path.join(folder_path, file_name)\n",
    "            print(f\"\\nProcessing file: {file_path}\")\n",
    "            \n",
    "            try:\n",
    "                print(f\"Trying to open file: {file_path}\")\n",
    "                with open(file_path, 'r', encoding='utf-8') as file:\n",
    "                    print(f\"File opened successfully: {file_path}\")\n",
    "                    lines = file.readlines()\n",
    "                    \n",
    "                    # Check each line for the target text\n",
    "                    for line in lines:\n",
    "                        print(f\"Processing line: {line.strip()}\")\n",
    "                        parts = line.strip().split(',')\n",
    "                        if len(parts) > 9:  # Ensure there are enough parts in the line\n",
    "                            transcription = parts[-1].lower()  # Assuming transcription is the last element\n",
    "                            print(f\"Transcription found: {transcription}\")\n",
    "                            if target_text.lower() in transcription:\n",
    "                                print(f\"Match found in file: {file_name}\")\n",
    "                                matches.append(file_name)\n",
    "                                break\n",
    "            except Exception as e:\n",
    "                print(f\"An error occurred while processing file {file_name}: {e}\")\n",
    "\n",
    "    # Print match cases\n",
    "    if matches:\n",
    "        print(\"\\nMatch cases:\")\n",
    "        for match in matches:\n",
    "            print(match)\n",
    "    else:\n",
    "        print(\"no match\")\n",
    "\n",
    "# Usage\n",
    "folder_path = 'MLT/GT_Train_txt'  # Replace with your folder path containing TXT files\n",
    "filter_museum_from_txt_files(folder_path)\n",
    "\n"
   ]
  }
 ],
 "metadata": {
  "kernelspec": {
   "display_name": "Python 3 (ipykernel)",
   "language": "python",
   "name": "python3"
  },
  "language_info": {
   "codemirror_mode": {
    "name": "ipython",
    "version": 3
   },
   "file_extension": ".py",
   "mimetype": "text/x-python",
   "name": "python",
   "nbconvert_exporter": "python",
   "pygments_lexer": "ipython3",
   "version": "3.9.19"
  }
 },
 "nbformat": 4,
 "nbformat_minor": 5
}
