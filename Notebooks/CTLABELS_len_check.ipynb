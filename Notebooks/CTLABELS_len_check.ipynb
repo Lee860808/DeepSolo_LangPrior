{
 "cells": [
  {
   "cell_type": "code",
   "execution_count": 1,
   "id": "18662762",
   "metadata": {},
   "outputs": [],
   "source": [
    "import json\n",
    "import pandas as pd\n",
    "import cv2\n",
    "import glob"
   ]
  },
  {
   "cell_type": "code",
   "execution_count": 2,
   "id": "5345a38d-02f3-466b-a3fb-af85578d1cf3",
   "metadata": {},
   "outputs": [],
   "source": [
    "# CTLABELS = [\n",
    "#     ' ', '!', '\"', '#', '$', '%', '&', '\\'', '(', ')', '*', '+', ',', '-', '.', '/',\n",
    "#     '0', '1', '2', '3', '4', '5', '6', '7', '8', '9', ':', ';', '<', '=', '>', '?',\n",
    "#     '@', 'A', 'B', 'C', 'D', 'E', 'F', 'G', 'H', 'I', 'J', 'K', 'L', 'M', 'N', 'O', 'P', 'Q', 'R', 'S', 'T', 'U', 'V', 'W', 'X', 'Y', 'Z',\n",
    "#     '[', '\\\\', ']', '^', '_', '`', 'a', 'b', 'c', 'd', 'e', 'f', 'g', 'h', 'i', 'j', 'k', 'l', 'm', 'n', 'o', 'p', 'q', 'r', 's', 't', 'u', 'v', 'w', 'x', 'y', 'z',\n",
    "#     '{', '|', '}', '~'\n",
    "# ]\n"
   ]
  },
  {
   "cell_type": "markdown",
   "id": "8cdeb5d0-bbca-4b98-920c-67ec4bf9c02c",
   "metadata": {},
   "source": [
    "### split annotations JSON file"
   ]
  },
  {
   "cell_type": "code",
   "execution_count": 3,
   "id": "91a6df23",
   "metadata": {},
   "outputs": [],
   "source": [
    "# ICDAR2015\n",
    "#TOTAL_FILES = 1\n",
    "# f = open('ic15_test.json')\n",
    "#with open('gt_img_1.txt', 'r') as f:\n",
    "    #data = json.load(f)\n",
    "    #data.keys()\n",
    "\n",
    "# TotalText\n",
    "# TOTAL_FILES = 300\n",
    "# with open('test.json', 'r') as f:\n",
    "#     data = json.load(f)\n",
    "#     data.keys()\n",
    "    \n",
    "# TOTAL_FILES = 1255\n",
    "# with open('train.json', 'r') as f:\n",
    "#    data = json.load(f)\n",
    "#    data.keys()\n",
    "\n",
    "# ICDAR2019 ArT\n",
    "# TOTAL_FILES = 1500\n",
    "# with open('test_ctw1500_maxlen100.json', 'r') as f:\n",
    "#     data = json.load(f)\n",
    "#     data.keys()\n",
    "\n"
   ]
  },
  {
   "cell_type": "code",
   "execution_count": 4,
   "id": "09c55009-fb5f-496b-8db5-9505e9377e9a",
   "metadata": {},
   "outputs": [],
   "source": [
    "# jpg_list = glob.glob(\"../datasets/totaltext/train_images/[0-9]*.jpg\")\n",
    "# jpg_list"
   ]
  },
  {
   "cell_type": "code",
   "execution_count": 5,
   "id": "fa7ca392-4368-4ace-aeee-4eb4c63e2e71",
   "metadata": {},
   "outputs": [],
   "source": [
    "# data['annotations']"
   ]
  },
  {
   "cell_type": "markdown",
   "id": "38bb6ff7",
   "metadata": {},
   "source": [
    "### This function parses groundtruth annotations and splits data to individual files"
   ]
  },
  {
   "cell_type": "code",
   "execution_count": 6,
   "id": "5a63b6d3",
   "metadata": {},
   "outputs": [
    {
     "name": "stdout",
     "output_type": "stream",
     "text": [
      "Index 0:  \n",
      "Index 1: !\n",
      "Index 2: \"\n",
      "Index 3: #\n",
      "Index 4: $\n",
      "Index 5: %\n",
      "Index 6: &\n",
      "Index 7: '\n",
      "Index 8: (\n",
      "Index 9: )\n",
      "Index 10: *\n",
      "Index 11: +\n",
      "Index 12: ,\n",
      "Index 13: -\n",
      "Index 14: .\n",
      "Index 15: /\n",
      "Index 16: 0\n",
      "Index 17: 1\n",
      "Index 18: 2\n",
      "Index 19: 3\n",
      "Index 20: 4\n",
      "Index 21: 5\n",
      "Index 22: 6\n",
      "Index 23: 7\n",
      "Index 24: 8\n",
      "Index 25: 9\n",
      "Index 26: :\n",
      "Index 27: ;\n",
      "Index 28: <\n",
      "Index 29: =\n",
      "Index 30: >\n",
      "Index 31: ?\n",
      "Index 32: @\n",
      "Index 33: A\n",
      "Index 34: B\n",
      "Index 35: C\n",
      "Index 36: D\n",
      "Index 37: E\n",
      "Index 38: F\n",
      "Index 39: G\n",
      "Index 40: H\n",
      "Index 41: I\n",
      "Index 42: J\n",
      "Index 43: K\n",
      "Index 44: L\n",
      "Index 45: M\n",
      "Index 46: N\n",
      "Index 47: O\n",
      "Index 48: P\n",
      "Index 49: Q\n",
      "Index 50: R\n",
      "Index 51: S\n",
      "Index 52: T\n",
      "Index 53: U\n",
      "Index 54: V\n",
      "Index 55: W\n",
      "Index 56: X\n",
      "Index 57: Y\n",
      "Index 58: Z\n",
      "Index 59: [\n",
      "Index 60: \\\n",
      "Index 61: ]\n",
      "Index 62: ^\n",
      "Index 63: _\n",
      "Index 64: `\n",
      "Index 65: a\n",
      "Index 66: b\n",
      "Index 67: c\n",
      "Index 68: d\n",
      "Index 69: e\n",
      "Index 70: f\n",
      "Index 71: g\n",
      "Index 72: h\n",
      "Index 73: i\n",
      "Index 74: j\n",
      "Index 75: k\n",
      "Index 76: l\n",
      "Index 77: m\n",
      "Index 78: n\n",
      "Index 79: o\n",
      "Index 80: p\n",
      "Index 81: q\n",
      "Index 82: r\n",
      "Index 83: s\n",
      "Index 84: t\n",
      "Index 85: u\n",
      "Index 86: v\n",
      "Index 87: w\n",
      "Index 88: x\n",
      "Index 89: y\n",
      "Index 90: z\n",
      "Index 91: {\n",
      "Index 92: |\n",
      "Index 93: }\n",
      "Index 94: ~\n",
      "Length of CTLABELS: 95\n"
     ]
    }
   ],
   "source": [
    "for index, char in enumerate(CTLABELS):\n",
    "    print(f\"Index {index}: {char}\")\n",
    "\n",
    "print(f\"Length of CTLABELS: {len(CTLABELS)}\")"
   ]
  },
  {
   "cell_type": "code",
   "execution_count": null,
   "id": "4e1e3c22-ca86-42ff-804c-44223dc04dd9",
   "metadata": {},
   "outputs": [],
   "source": []
  }
 ],
 "metadata": {
  "kernelspec": {
   "display_name": "Python 3 (ipykernel)",
   "language": "python",
   "name": "python3"
  },
  "language_info": {
   "codemirror_mode": {
    "name": "ipython",
    "version": 3
   },
   "file_extension": ".py",
   "mimetype": "text/x-python",
   "name": "python",
   "nbconvert_exporter": "python",
   "pygments_lexer": "ipython3",
   "version": "3.9.19"
  }
 },
 "nbformat": 4,
 "nbformat_minor": 5
}
